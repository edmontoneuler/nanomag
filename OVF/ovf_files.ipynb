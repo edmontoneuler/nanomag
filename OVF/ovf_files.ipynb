{
 "cells": [
  {
   "cell_type": "code",
   "execution_count": 1,
   "metadata": {},
   "outputs": [],
   "source": [
    "import numpy as np\n",
    "import matplotlib.pyplot as plt\n",
    "%matplotlib notebook"
   ]
  },
  {
   "cell_type": "code",
   "execution_count": 2,
   "metadata": {},
   "outputs": [],
   "source": [
    "data = np.loadtxt(\"test_data.csv\", delimiter = ',')\n",
    "#MuMax variables\n",
    "Nx = 2\n",
    "Ny = 4\n",
    "Nz = 8"
   ]
  },
  {
   "cell_type": "code",
   "execution_count": 3,
   "metadata": {},
   "outputs": [],
   "source": [
    "raw_mx = data[0:Ny*Nz, :]\n",
    "raw_my = data[Ny*Nz:2*Ny*Nz, :]\n",
    "raw_mz = data[2*Ny*Nz:3*Ny*Nz, :]"
   ]
  },
  {
   "cell_type": "code",
   "execution_count": 4,
   "metadata": {},
   "outputs": [
    {
     "data": {
      "text/plain": [
       "array([0.        , 0.00707089, 0.01414072, 0.02120843, 0.00070711,\n",
       "       0.00777794, 0.01484761, 0.02191505, 0.00141421, 0.00848498,\n",
       "       0.01555447, 0.02262163, 0.00212132, 0.009192  , 0.01626131,\n",
       "       0.02332817, 0.00282842, 0.00989901, 0.01696812, 0.02403469,\n",
       "       0.00353551, 0.010606  , 0.01767491, 0.02474116, 0.0042426 ,\n",
       "       0.01131298, 0.01838167, 0.0254476 , 0.00494969, 0.01201995,\n",
       "       0.0190884 , 0.026154  ])"
      ]
     },
     "execution_count": 4,
     "metadata": {},
     "output_type": "execute_result"
    }
   ],
   "source": [
    "raw_mz[:, 0]"
   ]
  },
  {
   "cell_type": "code",
   "execution_count": 8,
   "metadata": {},
   "outputs": [],
   "source": [
    "mx = np.zeros((Nx, Ny, Nz))\n",
    "my = np.zeros((Nx, Ny, Nz))\n",
    "mz = np.zeros((Nx, Ny, Nz))"
   ]
  },
  {
   "cell_type": "code",
   "execution_count": 9,
   "metadata": {},
   "outputs": [],
   "source": [
    "for i in range(Nx):\n",
    "    for j in range(Ny):\n",
    "        for k in range(Nz):\n",
    "            mx[i, j, k] = raw_mx[Ny*k+j, i]\n",
    "            my[i, j, k] = raw_my[Ny*k+j, i]\n",
    "            mz[i, j, k] = raw_mz[Ny*k+j, i]"
   ]
  },
  {
   "cell_type": "code",
   "execution_count": null,
   "metadata": {},
   "outputs": [],
   "source": []
  }
 ],
 "metadata": {
  "kernelspec": {
   "display_name": "Python 3",
   "language": "python",
   "name": "python3"
  },
  "language_info": {
   "codemirror_mode": {
    "name": "ipython",
    "version": 3
   },
   "file_extension": ".py",
   "mimetype": "text/x-python",
   "name": "python",
   "nbconvert_exporter": "python",
   "pygments_lexer": "ipython3",
   "version": "3.7.7"
  }
 },
 "nbformat": 4,
 "nbformat_minor": 4
}
